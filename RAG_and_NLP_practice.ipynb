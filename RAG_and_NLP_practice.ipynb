{
  "nbformat": 4,
  "nbformat_minor": 0,
  "metadata": {
    "colab": {
      "provenance": []
    },
    "kernelspec": {
      "name": "python3",
      "display_name": "Python 3"
    },
    "language_info": {
      "name": "python"
    }
  },
  "cells": [
    {
      "cell_type": "code",
      "source": [
        "#!pip install langchain chromadb sentence-transformers\n",
        "#!pip install -U langchain-community"
      ],
      "metadata": {
        "id": "0hb-weaCYsV2"
      },
      "execution_count": 45,
      "outputs": []
    },
    {
      "cell_type": "code",
      "source": [
        "import pandas as pd\n",
        "\n",
        "df = pd.read_csv(\"QandA.csv\")  # CSV 檔名\n",
        "documents = []\n",
        "for idx, row in df.iterrows():\n",
        "    # 將問題和答案合併為一段文本\n",
        "    doc_text = f\"Q: {row['Question']}\\nA: {row['Answer']}\"\n",
        "    documents.append(doc_text)\n"
      ],
      "metadata": {
        "id": "vS8K8qY3alNS"
      },
      "execution_count": 46,
      "outputs": []
    },
    {
      "cell_type": "code",
      "source": [
        "\n",
        "import pandas as pd\n",
        "\n",
        "df = pd.read_csv(\"QandA.csv\")  # CSV 檔名\n",
        "documents = []\n",
        "for idx, row in df.iterrows():\n",
        "    # 將問題和答案合併為一段文本\n",
        "    doc_text = f\"Q: {row['Question']}\\nA: {row['Answer']}\"\n",
        "    documents.append(doc_text)\n",
        "\n",
        "\n",
        "\n",
        "from langchain.embeddings import HuggingFaceEmbeddings\n",
        "from chromadb import Client\n",
        "\n",
        "# 向量嵌入模型\n",
        "embeddings = HuggingFaceEmbeddings(model_name=\"sentence-transformers/all-MiniLM-L6-v2\")\n",
        "\n",
        "# 建立本地 ChromaDB\n",
        "client = Client()\n",
        "\n",
        "# Create a collection\n",
        "#collection = client.create_collection(name=\"my_qa_collection\")\n",
        "\n",
        "for i, doc in enumerate(documents):\n",
        "    vector = embeddings.embed_query(doc)\n",
        "    # Add document and embedding to the collection\n",
        "    collection.add(\n",
        "        embeddings=[vector],\n",
        "        documents=[doc],\n",
        "        ids=[f\"doc_{i}\"] # Assign a unique ID to each document\n",
        "    )\n",
        "\n"
      ],
      "metadata": {
        "id": "Q1bOhrFKeeOt"
      },
      "execution_count": 49,
      "outputs": []
    },
    {
      "cell_type": "code",
      "source": [
        "query = \"I want to use Voice Memos app?\"\n",
        "query_vector = embeddings.embed_query(query)\n",
        "\n",
        "# 從 ChromaDB 查詢最相似的 Q&A\n",
        "results = collection.query(\n",
        "    query_embeddings=[query_vector],\n",
        "    n_results=1\n",
        ")\n",
        "\n",
        "retrieved_text = results['documents'][0][0]\n",
        "answer = retrieved_text.split(\"\\nA: \")[-1]\n",
        "print(\"Answer:\", answer)\n"
      ],
      "metadata": {
        "colab": {
          "base_uri": "https://localhost:8080/"
        },
        "id": "rZWFH-BLf-cm",
        "outputId": "33fc254f-38d9-4ea8-af4d-79323a55e477"
      },
      "execution_count": 48,
      "outputs": [
        {
          "output_type": "stream",
          "name": "stdout",
          "text": [
            "Answer: To utilize the Voice Memos app, open it and tap the red button to start recording. Speak your notes or observations. Tap the red button again to stop recording. You can edit, rename, and organize your voice memos within the app.\n"
          ]
        }
      ]
    }
  ]
}